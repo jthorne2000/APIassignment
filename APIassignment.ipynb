{
 "cells": [
  {
   "cell_type": "code",
   "execution_count": 1,
   "id": "6b3fa336",
   "metadata": {},
   "outputs": [
    {
     "name": "stdout",
     "output_type": "stream",
     "text": [
      "Requirement already satisfied: requests in /home/codespace/.local/lib/python3.12/site-packages (2.32.3)\n",
      "Requirement already satisfied: charset-normalizer<4,>=2 in /home/codespace/.local/lib/python3.12/site-packages (from requests) (3.4.1)\n",
      "Requirement already satisfied: idna<4,>=2.5 in /home/codespace/.local/lib/python3.12/site-packages (from requests) (3.10)\n",
      "Requirement already satisfied: urllib3<3,>=1.21.1 in /home/codespace/.local/lib/python3.12/site-packages (from requests) (2.3.0)\n",
      "Requirement already satisfied: certifi>=2017.4.17 in /home/codespace/.local/lib/python3.12/site-packages (from requests) (2025.1.31)\n",
      "\n",
      "\u001b[1m[\u001b[0m\u001b[34;49mnotice\u001b[0m\u001b[1;39;49m]\u001b[0m\u001b[39;49m A new release of pip is available: \u001b[0m\u001b[31;49m25.0.1\u001b[0m\u001b[39;49m -> \u001b[0m\u001b[32;49m25.1.1\u001b[0m\n",
      "\u001b[1m[\u001b[0m\u001b[34;49mnotice\u001b[0m\u001b[1;39;49m]\u001b[0m\u001b[39;49m To update, run: \u001b[0m\u001b[32;49mpip install --upgrade pip\u001b[0m\n",
      "Note: you may need to restart the kernel to use updated packages.\n"
     ]
    }
   ],
   "source": [
    "%pip install requests"
   ]
  },
  {
   "cell_type": "code",
   "execution_count": 2,
   "id": "7a19a003",
   "metadata": {},
   "outputs": [
    {
     "data": {
      "text/plain": [
       "<Response [409]>"
      ]
     },
     "execution_count": 2,
     "metadata": {},
     "output_type": "execute_result"
    }
   ],
   "source": [
    "import requests\n",
    "\n",
    "my_email = \"jessica.thorne@tufts.edu\"\n",
    "\n",
    "requests.post(f\"https://api.dp.la/v2/api_key/{my_email}\")"
   ]
  },
  {
   "cell_type": "code",
   "execution_count": null,
   "id": "ad256b0e",
   "metadata": {},
   "outputs": [],
   "source": [
    "import os\n",
    "import requests\n",
    "\n",
    "DPL_API_KEY_MAY = os.getenv(\"DPL_API_KEY_MAY\")\n",
    "\n",
    "DPL_API_KEY_MAY"
   ]
  },
  {
   "cell_type": "code",
   "execution_count": 6,
   "id": "e2377bfe",
   "metadata": {},
   "outputs": [
    {
     "data": {
      "text/plain": [
       "<Response [200]>"
      ]
     },
     "execution_count": 6,
     "metadata": {},
     "output_type": "execute_result"
    }
   ],
   "source": [
    "requests.get(f\"https://api.dp.la/v2/items?q=seahorses&api_key={DPL_API_KEY_MAY}\")"
   ]
  },
  {
   "cell_type": "code",
   "execution_count": 7,
   "id": "2a479b8c",
   "metadata": {},
   "outputs": [
    {
     "data": {
      "text/plain": [
       "{'count': 219,\n",
       " 'docs': [{'@context': 'http://dp.la/api/items/context',\n",
       "   '@id': 'http://dp.la/api/items/7e3e7325d81d93bb1c19bf461f147fb5',\n",
       "   '@type': 'ore:Aggregation',\n",
       "   'aggregatedCHO': '#sourceResource',\n",
       "   'dataProvider': {'@id': 'http://dp.la/api/contributor/broward-college-archives--special-collections',\n",
       "    'name': 'Broward College Archives & Special Collections'},\n",
       "   'id': '7e3e7325d81d93bb1c19bf461f147fb5',\n",
       "   'ingestDate': '2025-03-01T19:39:44.043Z',\n",
       "   'ingestType': 'item',\n",
       "   'isShownAt': 'http://purl.flvc.org/broward/fd/BC2810',\n",
       "   'object': 'https://broward.digital.flvc.org/islandora/object/broward:2218/datastream/TN/view',\n",
       "   'originalRecord': {'stringValue': '{\\n  \"@context\" : \"http://api.dp.la/items/context\",\\n  \"aggregatedCHO\" : \"#sourceResource\",\\n  \"dataProvider\" : \"Broward College Archives & Special Collections\",\\n  \"provider\" : {\\n    \"@id\" : \"UNDETERMINED\",\\n    \"name\" : \"Sunshine State Digital Network\"\\n  },\\n  \"isShownAt\" : \"http://purl.flvc.org/broward/fd/BC2810\",\\n  \"preview\" : \"https://broward.digital.flvc.org/islandora/object/broward:2218/datastream/TN/view\",\\n  \"sourceResource\" : {\\n    \"date\" : {\\n      \"displayDate\" : \"1967-01-25\",\\n      \"begin\" : \"1967-01-25\",\\n      \"end\" : \"1967-01-25\"\\n    },\\n    \"description\" : [ \"Broward Junior College\\'s basketball team will attempt to get out of the Florida Junior College Conference cellar tonight when It hosts Miami Dade South at 8 a.m..\" ],\\n    \"extent\" : [ \"1 clipping\" ],\\n    \"genre\" : [ {\\n      \"name\" : \"newspaper clippings\"\\n    } ],\\n    \"identifier\" : \"http://purl.flvc.org/broward/fd/BC2810\",\\n    \"language\" : [ {\\n      \"name\" : \"English\",\\n      \"iso_639_3\" : null\\n    } ],\\n    \"spatial\" : {\\n      \"name\" : \"Community colleges--Florida--Broward County\"\\n    },\\n    \"publisher\" : [ \"Fort Lauderdale News\" ],\\n    \"rights\" : [ {\\n      \"@id\" : \"http://rightsstatements.org/vocab/NKC/1.0/\"\\n    } ],\\n    \"subject\" : [ {\\n      \"name\" : \"Junior College of Broward County--Clippings\"\\n    }, {\\n      \"name\" : \"Seahorses sports team\"\\n    }, {\\n      \"name\" : \"College sports\"\\n    }, {\\n      \"name\" : \"Basketball\"\\n    }, {\\n      \"name\" : \"Community colleges--Florida--Broward County\"\\n    }, {\\n      \"name\" : \"1967\"\\n    }, {\\n      \"name\" : \"Junior College of Broward County\"\\n    } ],\\n    \"title\" : [ \"Seahorses At Home\" ],\\n    \"type\" : \"text\"\\n  }\\n}'},\n",
       "   'provider': {'@id': 'http://dp.la/api/contributor/florida',\n",
       "    'exactMatch': ['http://www.wikidata.org/entity/Q83878512'],\n",
       "    'name': 'Sunshine State Digital Network'},\n",
       "   'rights': 'http://rightsstatements.org/vocab/NKC/1.0/',\n",
       "   'rightsCategory': 'Unlimited Re-Use',\n",
       "   'sourceResource': {'@id': 'http://dp.la/api/items/7e3e7325d81d93bb1c19bf461f147fb5#SourceResource',\n",
       "    'date': [{'displayDate': '1967-01-25'}],\n",
       "    'description': [\"Broward Junior College's basketball team will attempt to get out of the Florida Junior College Conference cellar tonight when It hosts Miami Dade South at 8 a.m..\"],\n",
       "    'extent': ['1 clipping'],\n",
       "    'format': ['Newspaper clippings'],\n",
       "    'identifier': ['http://purl.flvc.org/broward/fd/BC2810'],\n",
       "    'language': [{'iso639_3': 'English', 'name': 'English'}],\n",
       "    'publisher': ['Fort Lauderdale News'],\n",
       "    'spatial': [{'name': 'Community colleges--Florida--Broward County'}],\n",
       "    'subject': [{'name': 'Junior College of Broward County--Clippings'},\n",
       "     {'name': 'Seahorses sports team'},\n",
       "     {'name': 'College sports'},\n",
       "     {'name': 'Basketball'},\n",
       "     {'name': 'Community colleges--Florida--Broward County'},\n",
       "     {'name': '1967'},\n",
       "     {'name': 'Junior College of Broward County'}],\n",
       "    'title': ['Seahorses At Home'],\n",
       "    'type': ['text']}},\n",
       "  {'@context': 'http://dp.la/api/items/context',\n",
       "   '@id': 'http://dp.la/api/items/d9027e08f1466adda99f131e492be819',\n",
       "   '@type': 'ore:Aggregation',\n",
       "   'aggregatedCHO': '#sourceResource',\n",
       "   'dataProvider': {'@id': 'http://dp.la/api/contributor/broward-college-archives--special-collections',\n",
       "    'name': 'Broward College Archives & Special Collections'},\n",
       "   'id': 'd9027e08f1466adda99f131e492be819',\n",
       "   'ingestDate': '2025-03-01T19:39:44.043Z',\n",
       "   'ingestType': 'item',\n",
       "   'isShownAt': 'http://purl.flvc.org/broward/fd/BC1599',\n",
       "   'object': 'https://broward.digital.flvc.org/islandora/object/broward:1869/datastream/TN/view',\n",
       "   'originalRecord': {'stringValue': '{\\n  \"@context\" : \"http://api.dp.la/items/context\",\\n  \"aggregatedCHO\" : \"#sourceResource\",\\n  \"dataProvider\" : \"Broward College Archives & Special Collections\",\\n  \"provider\" : {\\n    \"@id\" : \"UNDETERMINED\",\\n    \"name\" : \"Sunshine State Digital Network\"\\n  },\\n  \"isShownAt\" : \"http://purl.flvc.org/broward/fd/BC1599\",\\n  \"preview\" : \"https://broward.digital.flvc.org/islandora/object/broward:1869/datastream/TN/view\",\\n  \"sourceResource\" : {\\n    \"creator\" : [ {\\n      \"name\" : \"Hill, Larry\"\\n    } ],\\n    \"date\" : {\\n      \"displayDate\" : \"1962-12-08\",\\n      \"begin\" : \"1962-12-08\",\\n      \"end\" : \"1962-12-08\"\\n    },\\n    \"extent\" : [ \"1 clipping\" ],\\n    \"genre\" : [ {\\n      \"name\" : \"newspaper clippings\"\\n    } ],\\n    \"identifier\" : \"http://purl.flvc.org/broward/fd/BC1599\",\\n    \"language\" : [ {\\n      \"name\" : \"English\",\\n      \"iso_639_3\" : null\\n    } ],\\n    \"spatial\" : {\\n      \"name\" : \"Community colleges--Florida--Broward County\"\\n    },\\n    \"publisher\" : [ \"Fort Lauderdale News\" ],\\n    \"rights\" : [ {\\n      \"@id\" : \"http://rightsstatements.org/vocab/NKC/1.0/\"\\n    } ],\\n    \"subject\" : [ {\\n      \"name\" : \"Junior College of Broward County--Clippings\"\\n    }, {\\n      \"name\" : \"Seahorses sports team\"\\n    }, {\\n      \"name\" : \"College sports\"\\n    }, {\\n      \"name\" : \"Basketball\"\\n    }, {\\n      \"name\" : \"Community colleges--Florida--Broward County\"\\n    }, {\\n      \"name\" : \"1962\"\\n    }, {\\n      \"name\" : \"Petro, Rex\"\\n    }, {\\n      \"name\" : \"Wright, Hubert\"\\n    }, {\\n      \"name\" : \"Junior College of Broward County\"\\n    } ],\\n    \"title\" : [ \"Seahorses Dealt Loss\" ],\\n    \"type\" : \"text\"\\n  }\\n}'},\n",
       "   'provider': {'@id': 'http://dp.la/api/contributor/florida',\n",
       "    'exactMatch': ['http://www.wikidata.org/entity/Q83878512'],\n",
       "    'name': 'Sunshine State Digital Network'},\n",
       "   'rights': 'http://rightsstatements.org/vocab/NKC/1.0/',\n",
       "   'rightsCategory': 'Unlimited Re-Use',\n",
       "   'sourceResource': {'@id': 'http://dp.la/api/items/d9027e08f1466adda99f131e492be819#SourceResource',\n",
       "    'creator': ['Hill, Larry'],\n",
       "    'date': [{'displayDate': '1962-12-08'}],\n",
       "    'extent': ['1 clipping'],\n",
       "    'format': ['Newspaper clippings'],\n",
       "    'identifier': ['http://purl.flvc.org/broward/fd/BC1599'],\n",
       "    'language': [{'iso639_3': 'English', 'name': 'English'}],\n",
       "    'publisher': ['Fort Lauderdale News'],\n",
       "    'spatial': [{'name': 'Community colleges--Florida--Broward County'}],\n",
       "    'subject': [{'name': 'Junior College of Broward County--Clippings'},\n",
       "     {'name': 'Seahorses sports team'},\n",
       "     {'name': 'College sports'},\n",
       "     {'name': 'Basketball'},\n",
       "     {'name': 'Community colleges--Florida--Broward County'},\n",
       "     {'name': '1962'},\n",
       "     {'name': 'Petro, Rex'},\n",
       "     {'name': 'Wright, Hubert'},\n",
       "     {'name': 'Junior College of Broward County'}],\n",
       "    'title': ['Seahorses Dealt Loss'],\n",
       "    'type': ['text']}},\n",
       "  {'@context': 'http://dp.la/api/items/context',\n",
       "   '@id': 'http://dp.la/api/items/2b0557e60a7cf2a7b79d3b947aed9b5c',\n",
       "   '@type': 'ore:Aggregation',\n",
       "   'aggregatedCHO': '#sourceResource',\n",
       "   'dataProvider': {'@id': 'http://dp.la/api/contributor/broward-college-archives--special-collections',\n",
       "    'name': 'Broward College Archives & Special Collections'},\n",
       "   'id': '2b0557e60a7cf2a7b79d3b947aed9b5c',\n",
       "   'ingestDate': '2025-03-01T19:39:44.043Z',\n",
       "   'ingestType': 'item',\n",
       "   'isShownAt': 'http://purl.flvc.org/broward/fd/BC1605',\n",
       "   'object': 'https://broward.digital.flvc.org/islandora/object/broward:1874/datastream/TN/view',\n",
       "   'originalRecord': {'stringValue': '{\\n  \"@context\" : \"http://api.dp.la/items/context\",\\n  \"aggregatedCHO\" : \"#sourceResource\",\\n  \"dataProvider\" : \"Broward College Archives & Special Collections\",\\n  \"provider\" : {\\n    \"@id\" : \"UNDETERMINED\",\\n    \"name\" : \"Sunshine State Digital Network\"\\n  },\\n  \"isShownAt\" : \"http://purl.flvc.org/broward/fd/BC1605\",\\n  \"preview\" : \"https://broward.digital.flvc.org/islandora/object/broward:1874/datastream/TN/view\",\\n  \"sourceResource\" : {\\n    \"creator\" : [ {\\n      \"name\" : \"Day, John\"\\n    } ],\\n    \"date\" : {\\n      \"displayDate\" : \"1962-12-19\",\\n      \"begin\" : \"1962-12-19\",\\n      \"end\" : \"1962-12-19\"\\n    },\\n    \"extent\" : [ \"1 clipping\" ],\\n    \"genre\" : [ {\\n      \"name\" : \"newspaper clippings\"\\n    } ],\\n    \"identifier\" : \"http://purl.flvc.org/broward/fd/BC1605\",\\n    \"language\" : [ {\\n      \"name\" : \"English\",\\n      \"iso_639_3\" : null\\n    } ],\\n    \"spatial\" : {\\n      \"name\" : \"Community colleges--Florida--Broward County\"\\n    },\\n    \"publisher\" : [ \"Fort Lauderdale News\" ],\\n    \"rights\" : [ {\\n      \"@id\" : \"http://rightsstatements.org/vocab/NKC/1.0/\"\\n    } ],\\n    \"subject\" : [ {\\n      \"name\" : \"Junior College of Broward County--Clippings\"\\n    }, {\\n      \"name\" : \"Seahorses sports team\"\\n    }, {\\n      \"name\" : \"College sports\"\\n    }, {\\n      \"name\" : \"Basketball\"\\n    }, {\\n      \"name\" : \"Community colleges--Florida--Broward County\"\\n    }, {\\n      \"name\" : \"1962\"\\n    }, {\\n      \"name\" : \"Wright, Hubert\"\\n    }, {\\n      \"name\" : \"Patton, Joe\"\\n    }, {\\n      \"name\" : \"Junior College of Broward County\"\\n    } ],\\n    \"title\" : [ \"Seahorses Clip Rival\" ],\\n    \"type\" : \"text\"\\n  }\\n}'},\n",
       "   'provider': {'@id': 'http://dp.la/api/contributor/florida',\n",
       "    'exactMatch': ['http://www.wikidata.org/entity/Q83878512'],\n",
       "    'name': 'Sunshine State Digital Network'},\n",
       "   'rights': 'http://rightsstatements.org/vocab/NKC/1.0/',\n",
       "   'rightsCategory': 'Unlimited Re-Use',\n",
       "   'sourceResource': {'@id': 'http://dp.la/api/items/2b0557e60a7cf2a7b79d3b947aed9b5c#SourceResource',\n",
       "    'creator': ['Day, John'],\n",
       "    'date': [{'displayDate': '1962-12-19'}],\n",
       "    'extent': ['1 clipping'],\n",
       "    'format': ['Newspaper clippings'],\n",
       "    'identifier': ['http://purl.flvc.org/broward/fd/BC1605'],\n",
       "    'language': [{'iso639_3': 'English', 'name': 'English'}],\n",
       "    'publisher': ['Fort Lauderdale News'],\n",
       "    'spatial': [{'name': 'Community colleges--Florida--Broward County'}],\n",
       "    'subject': [{'name': 'Junior College of Broward County--Clippings'},\n",
       "     {'name': 'Seahorses sports team'},\n",
       "     {'name': 'College sports'},\n",
       "     {'name': 'Basketball'},\n",
       "     {'name': 'Community colleges--Florida--Broward County'},\n",
       "     {'name': '1962'},\n",
       "     {'name': 'Wright, Hubert'},\n",
       "     {'name': 'Patton, Joe'},\n",
       "     {'name': 'Junior College of Broward County'}],\n",
       "    'title': ['Seahorses Clip Rival'],\n",
       "    'type': ['text']}},\n",
       "  {'@context': 'http://dp.la/api/items/context',\n",
       "   '@id': 'http://dp.la/api/items/19b54368d5070152a57fdde7d994407f',\n",
       "   '@type': 'ore:Aggregation',\n",
       "   'aggregatedCHO': '#sourceResource',\n",
       "   'dataProvider': {'@id': 'http://dp.la/api/contributor/temple-university',\n",
       "    'exactMatch': ['http://www.wikidata.org/entity/Q1420239'],\n",
       "    'name': 'Temple University'},\n",
       "   'id': '19b54368d5070152a57fdde7d994407f',\n",
       "   'iiifManifest': 'http://digital.library.temple.edu/iiif/info/p15037coll3/60532/manifest.json',\n",
       "   'ingestDate': '2025-03-25T15:38:08.858Z',\n",
       "   'ingestType': 'item',\n",
       "   'isShownAt': 'http://digital.library.temple.edu/cdm/ref/collection/p15037coll3/id/60532',\n",
       "   'object': 'http://digital.library.temple.edu/utils/getthumbnail/collection/p15037coll3/id/60532',\n",
       "   'originalRecord': {'stringValue': '<record \\nxmlns=\"http://www.openarchives.org/OAI/2.0/\" xmlns:xsi=\"http://www.w3.org/2001/XMLSchema-instance\">\\n  <header>\\n    <identifier>oai:funnel_cake:padig:TEMPLE-p15037coll3-60532</identifier>\\n    <datestamp>2025-03-20T19:18:26Z</datestamp>\\n    <setSpec>Set:dpla_test</setSpec>\\n  </header>\\n  <metadata>\\n    <oai_dc:dc \\n    airflow-record-id=\"padig:TEMPLE-p15037coll3-60532\" xmlns:xsi=\"http://www.w3.org/2001/XMLSchema-instance\" xmlns:dc=\"http://purl.org/dc/elements/1.1/\" xmlns:dcterms=\"http://purl.org/dc/terms/\" xmlns:dpla=\"http://dp.la/about/map/\" xmlns:edm=\"http://www.europeana.eu/schemas/edm/\" xmlns:oai=\"http://www.openarchives.org/OAI/2.0/\" xmlns:oai_dc=\"http://www.openarchives.org/OAI/2.0/oai_dc/\" xmlns:oai_qdc=\"http://worldcat.org/xmlschemas/qdc-1.0/\" xmlns:oclc=\"http://purl.org/oclc/terms/\" xmlns:oclcdc=\"http://worldcat.org/xmlschemas/oclcdc-1.0/\" xmlns:oclcterms=\"http://purl.org/oclc/terms/\" xmlns:schema=\"http://schema.org\" xmlns:padig=\"http://padigital.org/ns\" xmlns:svcs=\"http://rdfs.org/sioc/services\">\\n      <dcterms:title>Philadelphia seahorses club</dcterms:title>\\n      <dcterms:date>1962-05-23</dcterms:date>\\n      <dcterms:creator>Maicher, Michael, Jr.</dcterms:creator>\\n      <dcterms:subject>Skin diving--Equipment and supplies</dcterms:subject>\\n      <dcterms:subject>Physical education and training</dcterms:subject>\\n      <dcterms:subject>Skin divers</dcterms:subject>\\n      <dcterms:subject>Swimming pools</dcterms:subject>\\n      <dcterms:subject>\\n        Philadelphia Seahorses Club (Philadelphia, Pa.)\\n      </dcterms:subject>\\n      <dcterms:subject>\\n        Young Women\\'s Christian Association of Philadelphia (Pa.). Mid-City Branch.\\n      </dcterms:subject>\\n      <dcterms:spatial>Philadelphia (Pa.)</dcterms:spatial>\\n      <dcterms:spatial>Center City District (Philadelphia, Pa.)</dcterms:spatial>\\n      <dcterms:subject>Phillips, Agnes D.</dcterms:subject>\\n      <dcterms:subject>Brescia, Corrine</dcterms:subject>\\n      <dcterms:subject>Bucci, Fred</dcterms:subject>\\n      <dcterms:subject>Kahler, John</dcterms:subject>\\n      <dcterms:description>\\n        &quot;Miss Agnes Phillips, physical education director for the Mid-City YWCA, helps Corrine Brescia adjust her skin-diving gear at the Y pool. Fred Bucci puts on a fin while John Kahler adjusts headgear. They\\'re in Philadelphia Seahorses Club.&quot;\\n      </dcterms:description>\\n      <dcterms:description>With clipping</dcterms:description>\\n      <schema:fileFormat>image/jp2</schema:fileFormat>\\n      <dcterms:type>Still Image</dcterms:type>\\n      <dcterms:format>Photographs</dcterms:format>\\n      <dcterms:publisher>Philadelphia Evening Bulletin</dcterms:publisher>\\n      <dcterms:extent>1 photograph: b&amp;w; 10 x 8 in.</dcterms:extent>\\n      <edm:rights>http://rightsstatements.org/vocab/InC/1.0/</edm:rights>\\n      <dcterms:isPartOf>\\n        George D. McDowell Philadelphia Evening Bulletin Photographs\\n      </dcterms:isPartOf>\\n      <edm:dataProvider>Temple University</edm:dataProvider>\\n      <dcterms:identifier>padig:TEMPLE-p15037coll3-60532</dcterms:identifier>\\n      <edm:isShownAt>\\n        http://digital.library.temple.edu/cdm/ref/collection/p15037coll3/id/60532\\n      </edm:isShownAt>\\n      <edm:preview>\\n        http://digital.library.temple.edu/utils/getthumbnail/collection/p15037coll3/id/60532\\n      </edm:preview>\\n      <svcs:hasService>\\n        http://digital.library.temple.edu/digital/iiif/p15037coll3/60532\\n      </svcs:hasService>\\n      <dcterms:isReferencedBy>\\n        http://digital.library.temple.edu/iiif/info/p15037coll3/60532/manifest.json\\n      </dcterms:isReferencedBy>\\n      <edm:provider>PA Digital</edm:provider>\\n</oai_dc:dc>\\n  </metadata>\\n</record>\\n'},\n",
       "   'provider': {'@id': 'http://dp.la/api/contributor/pa',\n",
       "    'exactMatch': ['http://www.wikidata.org/entity/Q83878501'],\n",
       "    'name': 'PA Digital'},\n",
       "   'rights': 'http://rightsstatements.org/vocab/InC/1.0/',\n",
       "   'rightsCategory': 'Permission or Fair Use',\n",
       "   'sourceResource': {'@id': 'http://dp.la/api/items/19b54368d5070152a57fdde7d994407f#SourceResource',\n",
       "    'collection': [{'title': 'George D. McDowell Philadelphia Evening Bulletin Photographs'}],\n",
       "    'creator': ['Maicher, Michael, Jr'],\n",
       "    'date': [{'displayDate': '1962-05-23'}],\n",
       "    'description': ['\"Miss Agnes Phillips, physical education director for the Mid-City YWCA, helps Corrine Brescia adjust her skin-diving gear at the Y pool. Fred Bucci puts on a fin while John Kahler adjusts headgear. They\\'re in Philadelphia Seahorses Club.\"',\n",
       "     'With clipping'],\n",
       "    'extent': ['1 photograph: b&w; 10 x 8 in.'],\n",
       "    'format': ['Photographs'],\n",
       "    'identifier': ['padig:TEMPLE-p15037coll3-60532'],\n",
       "    'publisher': ['Philadelphia Evening Bulletin'],\n",
       "    'spatial': [{'name': 'Philadelphia (Pa.)'},\n",
       "     {'name': 'Center City District (Philadelphia, Pa.)'}],\n",
       "    'subject': [{'name': 'Skin diving--Equipment and supplies'},\n",
       "     {'name': 'Physical education and training'},\n",
       "     {'name': 'Skin divers'},\n",
       "     {'name': 'Swimming pools'},\n",
       "     {'name': 'Philadelphia Seahorses Club (Philadelphia, Pa.)'},\n",
       "     {'name': \"Young Women's Christian Association of Philadelphia (Pa.). Mid-City Branch\"},\n",
       "     {'name': 'Phillips, Agnes D'},\n",
       "     {'name': 'Brescia, Corrine'},\n",
       "     {'name': 'Bucci, Fred'},\n",
       "     {'name': 'Kahler, John'}],\n",
       "    'title': ['Philadelphia seahorses club'],\n",
       "    'type': ['image']}},\n",
       "  {'@context': 'http://dp.la/api/items/context',\n",
       "   '@id': 'http://dp.la/api/items/4b71873f01a3872234baa50f246267c0',\n",
       "   '@type': 'ore:Aggregation',\n",
       "   'aggregatedCHO': '#sourceResource',\n",
       "   'dataProvider': {'@id': 'http://dp.la/api/contributor/broward-college-archives--special-collections',\n",
       "    'name': 'Broward College Archives & Special Collections'},\n",
       "   'id': '4b71873f01a3872234baa50f246267c0',\n",
       "   'ingestDate': '2025-03-01T19:39:44.043Z',\n",
       "   'ingestType': 'item',\n",
       "   'isShownAt': 'http://purl.flvc.org/broward/fd/BC1603',\n",
       "   'object': 'https://broward.digital.flvc.org/islandora/object/broward:1872/datastream/TN/view',\n",
       "   'originalRecord': {'stringValue': '{\\n  \"@context\" : \"http://api.dp.la/items/context\",\\n  \"aggregatedCHO\" : \"#sourceResource\",\\n  \"dataProvider\" : \"Broward College Archives & Special Collections\",\\n  \"provider\" : {\\n    \"@id\" : \"UNDETERMINED\",\\n    \"name\" : \"Sunshine State Digital Network\"\\n  },\\n  \"isShownAt\" : \"http://purl.flvc.org/broward/fd/BC1603\",\\n  \"preview\" : \"https://broward.digital.flvc.org/islandora/object/broward:1872/datastream/TN/view\",\\n  \"sourceResource\" : {\\n    \"date\" : {\\n      \"displayDate\" : \"1962-12-15\",\\n      \"begin\" : \"1962-12-15\",\\n      \"end\" : \"1962-12-15\"\\n    },\\n    \"extent\" : [ \"1 clipping\" ],\\n    \"genre\" : [ {\\n      \"name\" : \"newspaper clippings\"\\n    } ],\\n    \"identifier\" : \"http://purl.flvc.org/broward/fd/BC1603\",\\n    \"language\" : [ {\\n      \"name\" : \"English\",\\n      \"iso_639_3\" : null\\n    } ],\\n    \"spatial\" : {\\n      \"name\" : \"Community colleges--Florida--Broward County\"\\n    },\\n    \"publisher\" : [ \"Fort Lauderdale News\" ],\\n    \"rights\" : [ {\\n      \"@id\" : \"http://rightsstatements.org/vocab/NKC/1.0/\"\\n    } ],\\n    \"subject\" : [ {\\n      \"name\" : \"Junior College of Broward County--Clippings\"\\n    }, {\\n      \"name\" : \"Seahorses sports team\"\\n    }, {\\n      \"name\" : \"College sports\"\\n    }, {\\n      \"name\" : \"Basketball\"\\n    }, {\\n      \"name\" : \"Community colleges--Florida--Broward County\"\\n    }, {\\n      \"name\" : \"1962\"\\n    }, {\\n      \"name\" : \"Petro, Rex\"\\n    }, {\\n      \"name\" : \"Junior College of Broward County\"\\n    } ],\\n    \"title\" : [ \"Seahorses In Action\" ],\\n    \"type\" : \"text\"\\n  }\\n}'},\n",
       "   'provider': {'@id': 'http://dp.la/api/contributor/florida',\n",
       "    'exactMatch': ['http://www.wikidata.org/entity/Q83878512'],\n",
       "    'name': 'Sunshine State Digital Network'},\n",
       "   'rights': 'http://rightsstatements.org/vocab/NKC/1.0/',\n",
       "   'rightsCategory': 'Unlimited Re-Use',\n",
       "   'sourceResource': {'@id': 'http://dp.la/api/items/4b71873f01a3872234baa50f246267c0#SourceResource',\n",
       "    'date': [{'displayDate': '1962-12-15'}],\n",
       "    'extent': ['1 clipping'],\n",
       "    'format': ['Newspaper clippings'],\n",
       "    'identifier': ['http://purl.flvc.org/broward/fd/BC1603'],\n",
       "    'language': [{'iso639_3': 'English', 'name': 'English'}],\n",
       "    'publisher': ['Fort Lauderdale News'],\n",
       "    'spatial': [{'name': 'Community colleges--Florida--Broward County'}],\n",
       "    'subject': [{'name': 'Junior College of Broward County--Clippings'},\n",
       "     {'name': 'Seahorses sports team'},\n",
       "     {'name': 'College sports'},\n",
       "     {'name': 'Basketball'},\n",
       "     {'name': 'Community colleges--Florida--Broward County'},\n",
       "     {'name': '1962'},\n",
       "     {'name': 'Petro, Rex'},\n",
       "     {'name': 'Junior College of Broward County'}],\n",
       "    'title': ['Seahorses In Action'],\n",
       "    'type': ['text']}},\n",
       "  {'@context': 'http://dp.la/api/items/context',\n",
       "   '@id': 'http://dp.la/api/items/40d4dbfea45c33337e79783f6eb6ca9c',\n",
       "   '@type': 'ore:Aggregation',\n",
       "   'aggregatedCHO': '#sourceResource',\n",
       "   'dataProvider': {'@id': 'http://dp.la/api/contributor/broward-college-archives--special-collections',\n",
       "    'name': 'Broward College Archives & Special Collections'},\n",
       "   'id': '40d4dbfea45c33337e79783f6eb6ca9c',\n",
       "   'ingestDate': '2025-03-01T19:39:44.043Z',\n",
       "   'ingestType': 'item',\n",
       "   'isShownAt': 'http://purl.flvc.org/broward/fd/BC2285',\n",
       "   'object': 'https://broward.digital.flvc.org/islandora/object/broward:1482/datastream/TN/view',\n",
       "   'originalRecord': {'stringValue': '{\\n  \"@context\" : \"http://api.dp.la/items/context\",\\n  \"aggregatedCHO\" : \"#sourceResource\",\\n  \"dataProvider\" : \"Broward College Archives & Special Collections\",\\n  \"provider\" : {\\n    \"@id\" : \"UNDETERMINED\",\\n    \"name\" : \"Sunshine State Digital Network\"\\n  },\\n  \"isShownAt\" : \"http://purl.flvc.org/broward/fd/BC2285\",\\n  \"preview\" : \"https://broward.digital.flvc.org/islandora/object/broward:1482/datastream/TN/view\",\\n  \"sourceResource\" : {\\n    \"date\" : {\\n      \"displayDate\" : \"1965-11-29\",\\n      \"begin\" : \"1965-11-29\",\\n      \"end\" : \"1965-11-29\"\\n    },\\n    \"extent\" : [ \"1 clipping\" ],\\n    \"genre\" : [ {\\n      \"name\" : \"newspaper clippings\"\\n    } ],\\n    \"identifier\" : \"http://purl.flvc.org/broward/fd/BC2285\",\\n    \"language\" : [ {\\n      \"name\" : \"English\",\\n      \"iso_639_3\" : null\\n    } ],\\n    \"spatial\" : {\\n      \"name\" : \"Community colleges--Florida--Broward County\"\\n    },\\n    \"publisher\" : [ \"Hollywood Sun-Tattler\" ],\\n    \"rights\" : [ {\\n      \"@id\" : \"http://rightsstatements.org/vocab/NKC/1.0/\"\\n    } ],\\n    \"subject\" : [ {\\n      \"name\" : \"Junior College of Broward County--Clippings\"\\n    }, {\\n      \"name\" : \"Seahorses sports team\"\\n    }, {\\n      \"name\" : \"Basketball\"\\n    }, {\\n      \"name\" : \"College sports\"\\n    }, {\\n      \"name\" : \"1965\"\\n    }, {\\n      \"name\" : \"Morris, Clinton\"\\n    }, {\\n      \"name\" : \"Junior College of Broward County\"\\n    }, {\\n      \"name\" : \"Community colleges--Florida--Broward County\"\\n    } ],\\n    \"title\" : [ \"Seahorses Win Opener\" ],\\n    \"type\" : \"text\"\\n  }\\n}'},\n",
       "   'provider': {'@id': 'http://dp.la/api/contributor/florida',\n",
       "    'exactMatch': ['http://www.wikidata.org/entity/Q83878512'],\n",
       "    'name': 'Sunshine State Digital Network'},\n",
       "   'rights': 'http://rightsstatements.org/vocab/NKC/1.0/',\n",
       "   'rightsCategory': 'Unlimited Re-Use',\n",
       "   'sourceResource': {'@id': 'http://dp.la/api/items/40d4dbfea45c33337e79783f6eb6ca9c#SourceResource',\n",
       "    'date': [{'displayDate': '1965-11-29'}],\n",
       "    'extent': ['1 clipping'],\n",
       "    'format': ['Newspaper clippings'],\n",
       "    'identifier': ['http://purl.flvc.org/broward/fd/BC2285'],\n",
       "    'language': [{'iso639_3': 'English', 'name': 'English'}],\n",
       "    'publisher': ['Hollywood Sun-Tattler'],\n",
       "    'spatial': [{'name': 'Community colleges--Florida--Broward County'}],\n",
       "    'subject': [{'name': 'Junior College of Broward County--Clippings'},\n",
       "     {'name': 'Seahorses sports team'},\n",
       "     {'name': 'Basketball'},\n",
       "     {'name': 'College sports'},\n",
       "     {'name': '1965'},\n",
       "     {'name': 'Morris, Clinton'},\n",
       "     {'name': 'Junior College of Broward County'},\n",
       "     {'name': 'Community colleges--Florida--Broward County'}],\n",
       "    'title': ['Seahorses Win Opener'],\n",
       "    'type': ['text']}},\n",
       "  {'@context': 'http://dp.la/api/items/context',\n",
       "   '@id': 'http://dp.la/api/items/f3e75726a41b757372038c866871abea',\n",
       "   '@type': 'ore:Aggregation',\n",
       "   'aggregatedCHO': '#sourceResource',\n",
       "   'dataProvider': {'@id': 'http://dp.la/api/contributor/broward-college-archives--special-collections',\n",
       "    'name': 'Broward College Archives & Special Collections'},\n",
       "   'id': 'f3e75726a41b757372038c866871abea',\n",
       "   'ingestDate': '2025-03-01T19:39:44.043Z',\n",
       "   'ingestType': 'item',\n",
       "   'isShownAt': 'http://purl.flvc.org/broward/fd/BC2879',\n",
       "   'object': 'https://broward.digital.flvc.org/islandora/object/broward:1587/datastream/TN/view',\n",
       "   'originalRecord': {'stringValue': '{\\n  \"@context\" : \"http://api.dp.la/items/context\",\\n  \"aggregatedCHO\" : \"#sourceResource\",\\n  \"dataProvider\" : \"Broward College Archives & Special Collections\",\\n  \"provider\" : {\\n    \"@id\" : \"UNDETERMINED\",\\n    \"name\" : \"Sunshine State Digital Network\"\\n  },\\n  \"isShownAt\" : \"http://purl.flvc.org/broward/fd/BC2879\",\\n  \"preview\" : \"https://broward.digital.flvc.org/islandora/object/broward:1587/datastream/TN/view\",\\n  \"sourceResource\" : {\\n    \"date\" : {\\n      \"displayDate\" : \"1967-02-18\",\\n      \"begin\" : \"1967-02-18\",\\n      \"end\" : \"1967-02-18\"\\n    },\\n    \"extent\" : [ \"1 clipping\" ],\\n    \"genre\" : [ {\\n      \"name\" : \"newspaper clippings\"\\n    } ],\\n    \"identifier\" : \"http://purl.flvc.org/broward/fd/BC2879\",\\n    \"language\" : [ {\\n      \"name\" : \"English\",\\n      \"iso_639_3\" : null\\n    } ],\\n    \"spatial\" : {\\n      \"name\" : \"Community colleges--Florida--Broward County\"\\n    },\\n    \"publisher\" : [ \"Hollywood Sun-Tattler\" ],\\n    \"rights\" : [ {\\n      \"@id\" : \"http://rightsstatements.org/vocab/NKC/1.0/\"\\n    } ],\\n    \"subject\" : [ {\\n      \"name\" : \"Junior College of Broward County--Clippings\"\\n    }, {\\n      \"name\" : \"Seahorses sports team\"\\n    }, {\\n      \"name\" : \"College sports\"\\n    }, {\\n      \"name\" : \"Basketball\"\\n    }, {\\n      \"name\" : \"1967\"\\n    }, {\\n      \"name\" : \"Morris, Clinton\"\\n    }, {\\n      \"name\" : \"Junior College of Broward County\"\\n    }, {\\n      \"name\" : \"Community colleges--Florida--Broward County\"\\n    } ],\\n    \"title\" : [ \"Seahorses End Bitter Season\" ],\\n    \"type\" : \"text\"\\n  }\\n}'},\n",
       "   'provider': {'@id': 'http://dp.la/api/contributor/florida',\n",
       "    'exactMatch': ['http://www.wikidata.org/entity/Q83878512'],\n",
       "    'name': 'Sunshine State Digital Network'},\n",
       "   'rights': 'http://rightsstatements.org/vocab/NKC/1.0/',\n",
       "   'rightsCategory': 'Unlimited Re-Use',\n",
       "   'sourceResource': {'@id': 'http://dp.la/api/items/f3e75726a41b757372038c866871abea#SourceResource',\n",
       "    'date': [{'displayDate': '1967-02-18'}],\n",
       "    'extent': ['1 clipping'],\n",
       "    'format': ['Newspaper clippings'],\n",
       "    'identifier': ['http://purl.flvc.org/broward/fd/BC2879'],\n",
       "    'language': [{'iso639_3': 'English', 'name': 'English'}],\n",
       "    'publisher': ['Hollywood Sun-Tattler'],\n",
       "    'spatial': [{'name': 'Community colleges--Florida--Broward County'}],\n",
       "    'subject': [{'name': 'Junior College of Broward County--Clippings'},\n",
       "     {'name': 'Seahorses sports team'},\n",
       "     {'name': 'College sports'},\n",
       "     {'name': 'Basketball'},\n",
       "     {'name': '1967'},\n",
       "     {'name': 'Morris, Clinton'},\n",
       "     {'name': 'Junior College of Broward County'},\n",
       "     {'name': 'Community colleges--Florida--Broward County'}],\n",
       "    'title': ['Seahorses End Bitter Season'],\n",
       "    'type': ['text']}},\n",
       "  {'@context': 'http://dp.la/api/items/context',\n",
       "   '@id': 'http://dp.la/api/items/6f06e6ad98a161f1e0189f87baecc3a0',\n",
       "   '@type': 'ore:Aggregation',\n",
       "   'aggregatedCHO': '#sourceResource',\n",
       "   'dataProvider': {'@id': 'http://dp.la/api/contributor/broward-college-archives--special-collections',\n",
       "    'name': 'Broward College Archives & Special Collections'},\n",
       "   'id': '6f06e6ad98a161f1e0189f87baecc3a0',\n",
       "   'ingestDate': '2025-03-01T19:39:44.043Z',\n",
       "   'ingestType': 'item',\n",
       "   'isShownAt': 'http://purl.flvc.org/broward/fd/BC2855',\n",
       "   'object': 'https://broward.digital.flvc.org/islandora/object/broward:1579/datastream/TN/view',\n",
       "   'originalRecord': {'stringValue': '{\\n  \"@context\" : \"http://api.dp.la/items/context\",\\n  \"aggregatedCHO\" : \"#sourceResource\",\\n  \"dataProvider\" : \"Broward College Archives & Special Collections\",\\n  \"provider\" : {\\n    \"@id\" : \"UNDETERMINED\",\\n    \"name\" : \"Sunshine State Digital Network\"\\n  },\\n  \"isShownAt\" : \"http://purl.flvc.org/broward/fd/BC2855\",\\n  \"preview\" : \"https://broward.digital.flvc.org/islandora/object/broward:1579/datastream/TN/view\",\\n  \"sourceResource\" : {\\n    \"date\" : {\\n      \"displayDate\" : \"1967-02-06\",\\n      \"begin\" : \"1967-02-06\",\\n      \"end\" : \"1967-02-06\"\\n    },\\n    \"extent\" : [ \"1 clipping\" ],\\n    \"genre\" : [ {\\n      \"name\" : \"newspaper clippings\"\\n    } ],\\n    \"identifier\" : \"http://purl.flvc.org/broward/fd/BC2855\",\\n    \"language\" : [ {\\n      \"name\" : \"English\",\\n      \"iso_639_3\" : null\\n    } ],\\n    \"spatial\" : {\\n      \"name\" : \"Community colleges--Florida--Broward County\"\\n    },\\n    \"publisher\" : [ \"Hollywood Sun-Tattler\" ],\\n    \"rights\" : [ {\\n      \"@id\" : \"http://rightsstatements.org/vocab/NKC/1.0/\"\\n    } ],\\n    \"subject\" : [ {\\n      \"name\" : \"Junior College of Broward County--Clippings\"\\n    }, {\\n      \"name\" : \"Seahorses sports team\"\\n    }, {\\n      \"name\" : \"College sports\"\\n    }, {\\n      \"name\" : \"Basketball\"\\n    }, {\\n      \"name\" : \"1967\"\\n    }, {\\n      \"name\" : \"Morris, Clinton\"\\n    }, {\\n      \"name\" : \"Palm Beach Junior College\"\\n    }, {\\n      \"name\" : \"Junior College of Broward County\"\\n    }, {\\n      \"name\" : \"Community colleges--Florida--Broward County\"\\n    } ],\\n    \"title\" : [ \"Seahorses Trounce Palm Beach\" ],\\n    \"type\" : \"text\"\\n  }\\n}'},\n",
       "   'provider': {'@id': 'http://dp.la/api/contributor/florida',\n",
       "    'exactMatch': ['http://www.wikidata.org/entity/Q83878512'],\n",
       "    'name': 'Sunshine State Digital Network'},\n",
       "   'rights': 'http://rightsstatements.org/vocab/NKC/1.0/',\n",
       "   'rightsCategory': 'Unlimited Re-Use',\n",
       "   'sourceResource': {'@id': 'http://dp.la/api/items/6f06e6ad98a161f1e0189f87baecc3a0#SourceResource',\n",
       "    'date': [{'displayDate': '1967-02-06'}],\n",
       "    'extent': ['1 clipping'],\n",
       "    'format': ['Newspaper clippings'],\n",
       "    'identifier': ['http://purl.flvc.org/broward/fd/BC2855'],\n",
       "    'language': [{'iso639_3': 'English', 'name': 'English'}],\n",
       "    'publisher': ['Hollywood Sun-Tattler'],\n",
       "    'spatial': [{'name': 'Community colleges--Florida--Broward County'}],\n",
       "    'subject': [{'name': 'Junior College of Broward County--Clippings'},\n",
       "     {'name': 'Seahorses sports team'},\n",
       "     {'name': 'College sports'},\n",
       "     {'name': 'Basketball'},\n",
       "     {'name': '1967'},\n",
       "     {'name': 'Morris, Clinton'},\n",
       "     {'name': 'Palm Beach Junior College'},\n",
       "     {'name': 'Junior College of Broward County'},\n",
       "     {'name': 'Community colleges--Florida--Broward County'}],\n",
       "    'title': ['Seahorses Trounce Palm Beach'],\n",
       "    'type': ['text']}},\n",
       "  {'@context': 'http://dp.la/api/items/context',\n",
       "   '@id': 'http://dp.la/api/items/f33af05c2fc6ff42ad3923985e3acc1b',\n",
       "   '@type': 'ore:Aggregation',\n",
       "   'aggregatedCHO': '#sourceResource',\n",
       "   'dataProvider': {'@id': 'http://dp.la/api/contributor/broward-college-archives--special-collections',\n",
       "    'name': 'Broward College Archives & Special Collections'},\n",
       "   'id': 'f33af05c2fc6ff42ad3923985e3acc1b',\n",
       "   'ingestDate': '2025-03-01T19:39:44.043Z',\n",
       "   'ingestType': 'item',\n",
       "   'isShownAt': 'http://purl.flvc.org/broward/fd/BC2299',\n",
       "   'object': 'https://broward.digital.flvc.org/islandora/object/broward:1486/datastream/TN/view',\n",
       "   'originalRecord': {'stringValue': '{\\n  \"@context\" : \"http://api.dp.la/items/context\",\\n  \"aggregatedCHO\" : \"#sourceResource\",\\n  \"dataProvider\" : \"Broward College Archives & Special Collections\",\\n  \"provider\" : {\\n    \"@id\" : \"UNDETERMINED\",\\n    \"name\" : \"Sunshine State Digital Network\"\\n  },\\n  \"isShownAt\" : \"http://purl.flvc.org/broward/fd/BC2299\",\\n  \"preview\" : \"https://broward.digital.flvc.org/islandora/object/broward:1486/datastream/TN/view\",\\n  \"sourceResource\" : {\\n    \"date\" : {\\n      \"displayDate\" : \"1965-12-06\",\\n      \"begin\" : \"1965-12-06\",\\n      \"end\" : \"1965-12-06\"\\n    },\\n    \"extent\" : [ \"1 clipping\" ],\\n    \"genre\" : [ {\\n      \"name\" : \"newspaper clippings\"\\n    } ],\\n    \"identifier\" : \"http://purl.flvc.org/broward/fd/BC2299\",\\n    \"language\" : [ {\\n      \"name\" : \"English\",\\n      \"iso_639_3\" : null\\n    } ],\\n    \"spatial\" : {\\n      \"name\" : \"Community colleges--Florida--Broward County\"\\n    },\\n    \"publisher\" : [ \"Hollywood Sun-Tattler\" ],\\n    \"rights\" : [ {\\n      \"@id\" : \"http://rightsstatements.org/vocab/NKC/1.0/\"\\n    } ],\\n    \"subject\" : [ {\\n      \"name\" : \"Junior College of Broward County--Clippings\"\\n    }, {\\n      \"name\" : \"Seahorses sports team\"\\n    }, {\\n      \"name\" : \"Basketball\"\\n    }, {\\n      \"name\" : \"College sports\"\\n    }, {\\n      \"name\" : \"1965\"\\n    }, {\\n      \"name\" : \"Morris, Clinton\"\\n    }, {\\n      \"name\" : \"Junior College of Broward County\"\\n    }, {\\n      \"name\" : \"Community colleges--Florida--Broward County\"\\n    } ],\\n    \"title\" : [ \"Seahorses Win Against Edison\" ],\\n    \"type\" : \"text\"\\n  }\\n}'},\n",
       "   'provider': {'@id': 'http://dp.la/api/contributor/florida',\n",
       "    'exactMatch': ['http://www.wikidata.org/entity/Q83878512'],\n",
       "    'name': 'Sunshine State Digital Network'},\n",
       "   'rights': 'http://rightsstatements.org/vocab/NKC/1.0/',\n",
       "   'rightsCategory': 'Unlimited Re-Use',\n",
       "   'sourceResource': {'@id': 'http://dp.la/api/items/f33af05c2fc6ff42ad3923985e3acc1b#SourceResource',\n",
       "    'date': [{'displayDate': '1965-12-06'}],\n",
       "    'extent': ['1 clipping'],\n",
       "    'format': ['Newspaper clippings'],\n",
       "    'identifier': ['http://purl.flvc.org/broward/fd/BC2299'],\n",
       "    'language': [{'iso639_3': 'English', 'name': 'English'}],\n",
       "    'publisher': ['Hollywood Sun-Tattler'],\n",
       "    'spatial': [{'name': 'Community colleges--Florida--Broward County'}],\n",
       "    'subject': [{'name': 'Junior College of Broward County--Clippings'},\n",
       "     {'name': 'Seahorses sports team'},\n",
       "     {'name': 'Basketball'},\n",
       "     {'name': 'College sports'},\n",
       "     {'name': '1965'},\n",
       "     {'name': 'Morris, Clinton'},\n",
       "     {'name': 'Junior College of Broward County'},\n",
       "     {'name': 'Community colleges--Florida--Broward County'}],\n",
       "    'title': ['Seahorses Win Against Edison'],\n",
       "    'type': ['text']}},\n",
       "  {'@context': 'http://dp.la/api/items/context',\n",
       "   '@id': 'http://dp.la/api/items/2ab67defcc9b9dfd75e33825cf9197b6',\n",
       "   '@type': 'ore:Aggregation',\n",
       "   'aggregatedCHO': '#sourceResource',\n",
       "   'dataProvider': {'@id': 'http://dp.la/api/contributor/history-san-jose-research-library',\n",
       "    'name': 'History San Jose Research Library'},\n",
       "   'id': '2ab67defcc9b9dfd75e33825cf9197b6',\n",
       "   'ingestDate': '2024-02-01T16:27:52.667Z',\n",
       "   'ingestType': 'item',\n",
       "   'isShownAt': 'https://historysanjose.pastperfectonline.com/webobject/7F6C7C13-0976-4898-B9A9-052428346245',\n",
       "   'object': 'https://thumbnails.calisphere.org/clip/150x150/75685d887cbc1df44670aed401bdbfab',\n",
       "   'originalRecord': {'stringValue': '{\\n  \"collection_url\" : [ \"https://registry.cdlib.org/api/v1/collection/27289/\" ],\\n  \"repository_name\" : [ \"History San Jose Research Library\" ],\\n  \"url_item\" : \"https://historysanjose.pastperfectonline.com/webobject/7F6C7C13-0976-4898-B9A9-052428346245\",\\n  \"repository_data\" : [ \"https://registry.cdlib.org/api/v1/repository/76/::History San Jose Research Library\" ],\\n  \"description\" : [ \"Green on blue waves.\" ],\\n  \"title\" : [ \"Seahorses salt & pepper shakers\" ],\\n  \"title_ss\" : [ \"Seahorses salt & pepper shakers\" ],\\n  \"reference_image_dimensions\" : \"210:202\",\\n  \"collection_name\" : [ \"History San Jose Online Catalog\" ],\\n  \"collection_data\" : [ \"https://registry.cdlib.org/api/v1/collection/27289/::History San Jose Online Catalog\" ],\\n  \"sort_title\" : \"seahorses salt  pepper shakers\",\\n  \"reference_image_md5\" : \"75685d887cbc1df44670aed401bdbfab\",\\n  \"facet_decade\" : [ \"unknown\" ],\\n  \"sort_collection_data\" : [ \"history san jose online catalog:History San Jose Online Catalog:https://registry.cdlib.org/api/v1/collection/27289/\" ],\\n  \"harvest_id_s\" : \"27289--7F6C7C13-0976-4898-B9A9-052428346245\",\\n  \"repository_url\" : [ \"https://registry.cdlib.org/api/v1/repository/76/\" ],\\n  \"rights\" : [ \"Please contact the contributing institution for more information regarding the copyright status of this object.\" ],\\n  \"rights_ss\" : [ \"Please contact the contributing institution for more information regarding the copyright status of this object.\" ],\\n  \"identifier\" : [ \"7F6C7C13-0976-4898-B9A9-052428346245\", \"1968-2-192a-b\" ],\\n  \"identifier_ss\" : [ \"7F6C7C13-0976-4898-B9A9-052428346245\", \"1968-2-192a-b\" ],\\n  \"type\" : [ \"Image\" ],\\n  \"type_ss\" : [ \"Image\" ],\\n  \"id\" : \"3dc8e14dd23e8d06dd9178cd422705bc\",\\n  \"subject\" : [ \"Table settings & decorations\", \"Salt and pepper shakers (LCSH)\", \"Seahorses\" ],\\n  \"subject_ss\" : [ \"Table settings & decorations\", \"Salt and pepper shakers (LCSH)\", \"Seahorses\" ],\\n  \"_version_\" : 1771268130989932544,\\n  \"timestamp\" : \"2023-07-13T01:48:43.994Z\"\\n}'},\n",
       "   'provider': {'@id': 'http://dp.la/api/contributor/cdl',\n",
       "    'exactMatch': ['http://www.wikidata.org/entity/Q5020447'],\n",
       "    'name': 'California Digital Library'},\n",
       "   'rightsCategory': 'Unspecified Rights Status',\n",
       "   'sourceResource': {'@id': 'http://dp.la/api/items/2ab67defcc9b9dfd75e33825cf9197b6#SourceResource',\n",
       "    'collection': [{'title': 'History San Jose Online Catalog'}],\n",
       "    'description': ['Green on blue waves.'],\n",
       "    'identifier': ['7F6C7C13-0976-4898-B9A9-052428346245', '1968-2-192a-b'],\n",
       "    'rights': ['Please contact the contributing institution for more information regarding the copyright status of this object.'],\n",
       "    'subject': [{'name': 'Table settings & decorations'},\n",
       "     {'name': 'Salt and pepper shakers (LCSH)'},\n",
       "     {'name': 'Seahorses'}],\n",
       "    'title': ['Seahorses salt & pepper shakers'],\n",
       "    'type': ['image']}}],\n",
       " 'facets': [],\n",
       " 'limit': 10,\n",
       " 'start': 1}"
      ]
     },
     "execution_count": 7,
     "metadata": {},
     "output_type": "execute_result"
    }
   ],
   "source": [
    "response = requests.get(f\"https://api.dp.la/v2/items?q=seahorses&api_key={DPL_API_KEY_MAY}\")\n",
    "\n",
    "response.json()"
   ]
  },
  {
   "cell_type": "code",
   "execution_count": 8,
   "id": "5a7eb93a",
   "metadata": {},
   "outputs": [
    {
     "data": {
      "text/plain": [
       "219"
      ]
     },
     "execution_count": 8,
     "metadata": {},
     "output_type": "execute_result"
    }
   ],
   "source": [
    "parsed_response = response.json()\n",
    "\n",
    "parsed_response['count']"
   ]
  },
  {
   "cell_type": "code",
   "execution_count": 10,
   "id": "fab66dbf",
   "metadata": {},
   "outputs": [
    {
     "data": {
      "text/plain": [
       "{'count': 219,\n",
       " 'docs': [{'sourceResource.title': 'Seahorses At Home'},\n",
       "  {'sourceResource.title': 'Seahorses Dealt Loss'},\n",
       "  {'sourceResource.title': 'Seahorses Clip Rival'},\n",
       "  {'sourceResource.title': 'Philadelphia seahorses club'},\n",
       "  {'sourceResource.title': 'Seahorses In Action'},\n",
       "  {'sourceResource.title': 'Seahorses Win Opener'},\n",
       "  {'sourceResource.title': 'Seahorses End Bitter Season'},\n",
       "  {'sourceResource.title': 'Seahorses Trounce Palm Beach'},\n",
       "  {'sourceResource.title': 'Seahorses Win Against Edison'},\n",
       "  {'sourceResource.title': 'Seahorses salt & pepper shakers'}],\n",
       " 'facets': [],\n",
       " 'limit': 10,\n",
       " 'start': 1}"
      ]
     },
     "execution_count": 10,
     "metadata": {},
     "output_type": "execute_result"
    }
   ],
   "source": [
    "my_query = \"seahorses\"\n",
    "my_url = f\"https://api.dp.la/v2/items?q={my_query}&fields=sourceResource.title&api_key={DPL_API_KEY_MAY}\"\n",
    "\n",
    "response = requests.get(my_url)\n",
    "\n",
    "parsed_response = response.json()\n",
    "parsed_response"
   ]
  },
  {
   "cell_type": "code",
   "execution_count": 14,
   "id": "f1b6faa4",
   "metadata": {},
   "outputs": [
    {
     "data": {
      "text/plain": [
       "{'count': 1671,\n",
       " 'docs': [{'sourceResource.title': 'North Carolina hurricane guide'},\n",
       "  {'sourceResource.title': 'North Carolina hurricane guide'},\n",
       "  {'sourceResource.title': 'SOUTH CAROLINA HURRICANE GUIDE'},\n",
       "  {'sourceResource.title': 'North Carolina hurricane guide'},\n",
       "  {'sourceResource.title': '2010 SOUTH CAROLINA Hurricane Guide'},\n",
       "  {'sourceResource.title': '2021 hurricane guide South Carolina'},\n",
       "  {'sourceResource.title': 'Hurricane Gracie in South Carolina'},\n",
       "  {'sourceResource.title': 'South Carolina hurricane guide 2019'},\n",
       "  {'sourceResource.title': '2011 South Carolina hurricane guide'},\n",
       "  {'sourceResource.title': 'South Carolina SP Hurricane Tavern'}],\n",
       " 'facets': [],\n",
       " 'limit': 10,\n",
       " 'start': 1}"
      ]
     },
     "execution_count": 14,
     "metadata": {},
     "output_type": "execute_result"
    }
   ],
   "source": [
    "my_query = \"carolina+hurricane\"\n",
    "my_url = f\"https://api.dp.la/v2/items?q={my_query}&fields=sourceResource.title&api_key={DPL_API_KEY_MAY}\"\n",
    "\n",
    "response = requests.get(my_url)\n",
    "\n",
    "parsed_response = response.json()\n",
    "parsed_response"
   ]
  },
  {
   "cell_type": "code",
   "execution_count": 15,
   "id": "b4b38b9d",
   "metadata": {},
   "outputs": [
    {
     "data": {
      "text/plain": [
       "{'count': 54,\n",
       " 'docs': [{'sourceResource.title': '2021 hurricane guide South Carolina'},\n",
       "  {'sourceResource.title': 'South Carolina hurricane guide 2022'},\n",
       "  {'sourceResource.title': 'South Carolina Hurricane Guide 2024'},\n",
       "  {'sourceResource.title': 'South Carolina hurricane guide 2020'},\n",
       "  {'sourceResource.title': 'South Carolina hurricane guide 2019'},\n",
       "  {'sourceResource.title': 'South Carolina Hurricane Florence action plan'},\n",
       "  {'sourceResource.title': 'South Carolina Hurricane Florence action plan'},\n",
       "  {'sourceResource.title': 'South Carolina Hurricane Florence action plan'},\n",
       "  {'sourceResource.title': 'South Carolina Hurricane Florence action plan'},\n",
       "  {'sourceResource.title': 'Hurricane Helene : Timber Damage Report For South Carolina'}],\n",
       " 'facets': [],\n",
       " 'limit': 10,\n",
       " 'start': 1}"
      ]
     },
     "execution_count": 15,
     "metadata": {},
     "output_type": "execute_result"
    }
   ],
   "source": [
    "my_query = \"carolina+hurricane+202*\"\n",
    "my_url = f\"https://api.dp.la/v2/items?q={my_query}&fields=sourceResource.title&api_key={DPL_API_KEY_MAY}\"\n",
    "\n",
    "response = requests.get(my_url)\n",
    "\n",
    "parsed_response = response.json()\n",
    "parsed_response"
   ]
  },
  {
   "cell_type": "code",
   "execution_count": 16,
   "id": "8509c411",
   "metadata": {},
   "outputs": [
    {
     "data": {
      "text/plain": [
       "{'count': 501,\n",
       " 'docs': [{'sourceResource.title': '2010 SOUTH CAROLINA Hurricane Guide'},\n",
       "  {'sourceResource.title': 'South Carolina hurricane guide 2019'},\n",
       "  {'sourceResource.title': '2011 South Carolina hurricane guide'},\n",
       "  {'sourceResource.title': '2013 South Carolina HURRICANE GUIDE'},\n",
       "  {'sourceResource.title': 'South Carolina 2018 hurricane guide'},\n",
       "  {'sourceResource.title': 'South Carolina Hurricane Florence action plan'},\n",
       "  {'sourceResource.title': 'South Carolina Hurricane Florence action plan'},\n",
       "  {'sourceResource.title': 'South Carolina Hurricane Florence action plan'},\n",
       "  {'sourceResource.title': 'South Carolina Hurricane Florence action plan'},\n",
       "  {'sourceResource.title': 'South Carolina Hurricane Matthew action plan amendment 5'}],\n",
       " 'facets': [],\n",
       " 'limit': 10,\n",
       " 'start': 1}"
      ]
     },
     "execution_count": 16,
     "metadata": {},
     "output_type": "execute_result"
    }
   ],
   "source": [
    "my_query = \"carolina+hurricane+201*\"\n",
    "my_url = f\"https://api.dp.la/v2/items?q={my_query}&fields=sourceResource.title&api_key={DPL_API_KEY_MAY}\"\n",
    "\n",
    "response = requests.get(my_url)\n",
    "\n",
    "parsed_response = response.json()\n",
    "parsed_response"
   ]
  },
  {
   "cell_type": "code",
   "execution_count": 17,
   "id": "6af7b2ee",
   "metadata": {},
   "outputs": [
    {
     "data": {
      "text/plain": [
       "{'count': 531,\n",
       " 'docs': [{'sourceResource.title': '2009 SOUTH CAROLINA HURRICANE GUIDE'},\n",
       "  {'sourceResource.title': 'South Carolina hurricane evacuation routes'},\n",
       "  {'sourceResource.title': 'Corps of Engineers hurricane work in South Carolina'},\n",
       "  {'sourceResource.title': 'Preparations for Possible Hurricane Strike in South Carolina'},\n",
       "  {'sourceResource.title': 'Organization Assignment: Hurricane Isabel, North Carolina, September 22, 2003'},\n",
       "  {'sourceResource.title': 'Uprooted trees, damage due to Hurricane Hugo, Congaree National Park, South Carolina'},\n",
       "  {'sourceResource.title': 'Snapped trees and fallen debris post Hurricane Hugo, Congaree National Park, South Carolina'},\n",
       "  {'sourceResource.title': 'Hurricane/Tropical Storm - Atlantic Ocean, September 12, 2003 -- Satellite photograph of Hurricane Isabel east of the Bahamas in the Atlantic Ocean. The Hurricane made landfall near Ocracoke Inlet in North Carolina on September 18th as a Category 2 storm. NOAA New Photo'},\n",
       "  {'sourceResource.title': 'Executive order no. 2004-20'},\n",
       "  {'sourceResource.title': 'Executive order no. 2003-22'}],\n",
       " 'facets': [],\n",
       " 'limit': 10,\n",
       " 'start': 1}"
      ]
     },
     "execution_count": 17,
     "metadata": {},
     "output_type": "execute_result"
    }
   ],
   "source": [
    "my_query = \"carolina+hurricane+200*\"\n",
    "my_url = f\"https://api.dp.la/v2/items?q={my_query}&fields=sourceResource.title&api_key={DPL_API_KEY_MAY}\"\n",
    "\n",
    "response = requests.get(my_url)\n",
    "\n",
    "parsed_response = response.json()\n",
    "parsed_response"
   ]
  },
  {
   "cell_type": "code",
   "execution_count": 18,
   "id": "f1a6cf66",
   "metadata": {},
   "outputs": [
    {
     "data": {
      "text/plain": [
       "{'count': 424,\n",
       " 'docs': [{'sourceResource.title': \"Hurricane Floyd's floodwaters in Kinston, North Carolina\"},\n",
       "  {'sourceResource.title': \"Hurricane Floyd's floodwaters in Kinston, North Carolina\"},\n",
       "  {'sourceResource.title': 'Disaster recovery after Hurricane Hugo in South Carolina'},\n",
       "  {'sourceResource.title': \"Aerial view of Hurricane Floyd's floodwaters in Tarboro, North Carolina\"},\n",
       "  {'sourceResource.title': \"Aerial view of Hurricane Floyd's floodwaters in Tarboro, North Carolina\"},\n",
       "  {'sourceResource.title': 'Hurricane Hugo : South Carolina forest land research and management related to the storm'},\n",
       "  {'sourceResource.title': 'Hurricane Hugo South Carolina forest land research and management related to the storm'},\n",
       "  {'sourceResource.title': 'Hurricane Hugo South Carolina forest land research and management related to the storm'},\n",
       "  {'sourceResource.title': 'A map of the Residentially declared disaster areas of North Carolina, following Hurricane Bonnie'},\n",
       "  {'sourceResource.title': 'Hurricane Floyd passes very close to the South Carolina Coast during 15-16 SEP 99. Members of the South Carolina National Guard were activated to assist in evacuation and hurricane clean-up missions'}],\n",
       " 'facets': [],\n",
       " 'limit': 10,\n",
       " 'start': 1}"
      ]
     },
     "execution_count": 18,
     "metadata": {},
     "output_type": "execute_result"
    }
   ],
   "source": [
    "my_query = \"carolina+hurricane+199*\"\n",
    "my_url = f\"https://api.dp.la/v2/items?q={my_query}&fields=sourceResource.title&api_key={DPL_API_KEY_MAY}\"\n",
    "\n",
    "response = requests.get(my_url)\n",
    "\n",
    "parsed_response = response.json()\n",
    "parsed_response"
   ]
  },
  {
   "cell_type": "code",
   "execution_count": 19,
   "id": "4551dec3",
   "metadata": {},
   "outputs": [
    {
     "data": {
      "text/plain": [
       "{'count': 278,\n",
       " 'docs': [{'sourceResource.title': 'Disaster recovery after Hurricane Hugo in South Carolina'},\n",
       "  {'sourceResource.title': 'due to Hurricane Hugo, Congaree National Park, South Carolina'},\n",
       "  {'sourceResource.title': 'Damage due to Hurricane Hugo, Congaree National Park, South Carolina'},\n",
       "  {'sourceResource.title': 'Damage due to Hurricane Hugo, Congaree National Park, South Carolina'},\n",
       "  {'sourceResource.title': 'Damage due to Hurricane Hugo, Congaree National Park, South Carolina'},\n",
       "  {'sourceResource.title': 'Damage due to Hurricane Hugo, Congaree National Park, South Carolina'},\n",
       "  {'sourceResource.title': 'Damage due to Hurricane Hugo, Congaree National Park, South Carolina'},\n",
       "  {'sourceResource.title': 'Damage due to Hurricane Hugo, Congaree National Park, South Carolina'},\n",
       "  {'sourceResource.title': 'Damage due to Hurricane Hugo, Congaree National Park, South Carolina'},\n",
       "  {'sourceResource.title': 'Damage due to Hurricane Hugo, Congaree National Park, South Carolina'}],\n",
       " 'facets': [],\n",
       " 'limit': 10,\n",
       " 'start': 1}"
      ]
     },
     "execution_count": 19,
     "metadata": {},
     "output_type": "execute_result"
    }
   ],
   "source": [
    "my_query = \"carolina+hurricane+198*\"\n",
    "my_url = f\"https://api.dp.la/v2/items?q={my_query}&fields=sourceResource.title&api_key={DPL_API_KEY_MAY}\"\n",
    "\n",
    "response = requests.get(my_url)\n",
    "\n",
    "parsed_response = response.json()\n",
    "parsed_response"
   ]
  },
  {
   "cell_type": "code",
   "execution_count": 20,
   "id": "6082a85b",
   "metadata": {},
   "outputs": [
    {
     "data": {
      "text/plain": [
       "{'count': 71,\n",
       " 'docs': [{'sourceResource.title': 'Executive order no. 2016-26'},\n",
       "  {'sourceResource.title': 'Executive order no. 2015-21'},\n",
       "  {'sourceResource.title': 'Executive order no. 2016-29'},\n",
       "  {'sourceResource.title': 'Executive order no. 2016-34'},\n",
       "  {'sourceResource.title': 'Executive order no. 2016-31'},\n",
       "  {'sourceResource.title': 'Executive order no. 2016-39'},\n",
       "  {'sourceResource.title': 'Executive order no. 2016-37'},\n",
       "  {'sourceResource.title': 'Executive order no. 2016-38'},\n",
       "  {'sourceResource.title': 'Heavy flooding made the going rough in the downtown area as this lone car struggles through hubcap deep water as Hurricane Ginger hit North Carolina.'},\n",
       "  {'sourceResource.title': 'Tiny Cottage (top photo), badly damaged by Hurricane Connie, gets new treatment from Hurricane Diane at Wilmington Beach, steel pier and boardwalk at Carolina Beach, N. C., takes severe lashing from storm. About 200 feet of pier was lost in Connie last week.'}],\n",
       " 'facets': [],\n",
       " 'limit': 10,\n",
       " 'start': 1}"
      ]
     },
     "execution_count": 20,
     "metadata": {},
     "output_type": "execute_result"
    }
   ],
   "source": [
    "my_query = \"carolina+hurricane+197*\"\n",
    "my_url = f\"https://api.dp.la/v2/items?q={my_query}&fields=sourceResource.title&api_key={DPL_API_KEY_MAY}\"\n",
    "\n",
    "response = requests.get(my_url)\n",
    "\n",
    "parsed_response = response.json()\n",
    "parsed_response"
   ]
  },
  {
   "cell_type": "code",
   "execution_count": 21,
   "id": "609b7e7d",
   "metadata": {},
   "outputs": [
    {
     "data": {
      "text/plain": [
       "{'count': 94,\n",
       " 'docs': [{'sourceResource.title': 'Debris in road'},\n",
       "  {'sourceResource.title': 'Men working with collapsed building'},\n",
       "  {'sourceResource.title': 'Hurricane debris'},\n",
       "  {'sourceResource.title': 'Hurricane debris'},\n",
       "  {'sourceResource.title': 'Damage from Hurricane Donna'},\n",
       "  {'sourceResource.title': 'Damage from Hurricane Donna'},\n",
       "  {'sourceResource.title': 'Hurricane debris'},\n",
       "  {'sourceResource.title': 'Damage from Hurricane Donna'},\n",
       "  {'sourceResource.title': 'Damage from Hurricane Donna'},\n",
       "  {'sourceResource.title': 'Debris in road'}],\n",
       " 'facets': [],\n",
       " 'limit': 10,\n",
       " 'start': 1}"
      ]
     },
     "execution_count": 21,
     "metadata": {},
     "output_type": "execute_result"
    }
   ],
   "source": [
    "my_query = \"carolina+hurricane+196*\"\n",
    "my_url = f\"https://api.dp.la/v2/items?q={my_query}&fields=sourceResource.title&api_key={DPL_API_KEY_MAY}\"\n",
    "\n",
    "response = requests.get(my_url)\n",
    "\n",
    "parsed_response = response.json()\n",
    "parsed_response"
   ]
  },
  {
   "cell_type": "code",
   "execution_count": 22,
   "id": "ac195cae",
   "metadata": {},
   "outputs": [
    {
     "data": {
      "text/plain": [
       "{'count': 196,\n",
       " 'docs': [{'sourceResource.title': 'Hurricane Gracie in South Carolina'},\n",
       "  {'sourceResource.title': 'Hurricane Hazel : South Carolina Impact Report'},\n",
       "  {'sourceResource.title': \"McCrory, Pat Executive Order No. 110 Regarding Hurricane Matthew's impact on North Carolina Schools\"},\n",
       "  {'sourceResource.title': 'Hurricane Hazel'},\n",
       "  {'sourceResource.title': 'Hurricane damage'},\n",
       "  {'sourceResource.title': 'Hurricane damage'},\n",
       "  {'sourceResource.title': 'Hurricane damage'},\n",
       "  {'sourceResource.title': 'Car damage'},\n",
       "  {'sourceResource.title': 'Car damage'},\n",
       "  {'sourceResource.title': 'Car damage'}],\n",
       " 'facets': [],\n",
       " 'limit': 10,\n",
       " 'start': 1}"
      ]
     },
     "execution_count": 22,
     "metadata": {},
     "output_type": "execute_result"
    }
   ],
   "source": [
    "my_query = \"carolina+hurricane+195*\"\n",
    "my_url = f\"https://api.dp.la/v2/items?q={my_query}&fields=sourceResource.title&api_key={DPL_API_KEY_MAY}\"\n",
    "\n",
    "response = requests.get(my_url)\n",
    "\n",
    "parsed_response = response.json()\n",
    "parsed_response"
   ]
  },
  {
   "cell_type": "code",
   "execution_count": 23,
   "id": "91f6818a",
   "metadata": {},
   "outputs": [
    {
     "data": {
      "text/plain": [
       "{'count': 57,\n",
       " 'docs': [{'sourceResource.title': 'Hurricane Gridiron, Miami vs. South Carolina, Orange Bowl, November 22, 1940'},\n",
       "  {'sourceResource.title': 'Hurricane Helene Damage Assessment : $194 Million'},\n",
       "  {'sourceResource.title': 'Perdue, Bev. Executive Order No. 062: Proclamation of a State of Emergency by the Governor of the State of North Carolina Due to Hurricane Earl'},\n",
       "  {'sourceResource.title': 'Minnie-Jo Fisher Gay Oral History Interview [July 15, 1996]'},\n",
       "  {'sourceResource.title': 'Perdue, Bev. Press Release, 2011-08-23, Gov. Perdue Orders State Emergency Management Preparations'},\n",
       "  {'sourceResource.title': 'Fred A. Crawford, Jr., M.D., oral history interview, 1 July 2009'},\n",
       "  {'sourceResource.title': 'Gail W. Stuart, Ph.D., R.N., F.A.A.N., oral history interview, 27 July 2009'},\n",
       "  {'sourceResource.title': 'Perdue, Bev. Press Release, 2011-08-24, State Prepares for Hurricane Irene'},\n",
       "  {'sourceResource.title': 'Perdue, Bev. Press Release, 2011-08-23, Gov. Perdue Requests Emergency Disaster Declaration'},\n",
       "  {'sourceResource.title': 'Perdue, Bev. Press Release, 2011-09-21, Fema Temporary Housing Units Arrive in Eastern North Carolina'}],\n",
       " 'facets': [],\n",
       " 'limit': 10,\n",
       " 'start': 1}"
      ]
     },
     "execution_count": 23,
     "metadata": {},
     "output_type": "execute_result"
    }
   ],
   "source": [
    "my_query = \"carolina+hurricane+194*\"\n",
    "my_url = f\"https://api.dp.la/v2/items?q={my_query}&fields=sourceResource.title&api_key={DPL_API_KEY_MAY}\"\n",
    "\n",
    "response = requests.get(my_url)\n",
    "\n",
    "parsed_response = response.json()\n",
    "parsed_response"
   ]
  },
  {
   "cell_type": "code",
   "execution_count": 24,
   "id": "4f725aad",
   "metadata": {},
   "outputs": [
    {
     "data": {
      "text/plain": [
       "{'count': 23,\n",
       " 'docs': [{'sourceResource.title': 'South Carolina SP Hurricane Tavern'},\n",
       "  {'sourceResource.title': 'Talking about the storm'},\n",
       "  {'sourceResource.title': 'Minnie-Jo Fisher Gay Oral History Interview [July 15, 1996]'},\n",
       "  {'sourceResource.title': 'Sidney Clarence Mills Oral History Interview [January 03, 1996]'},\n",
       "  {'sourceResource.title': 'Wiley Tripp May Oral History Interview [September 25, 1996]'},\n",
       "  {'sourceResource.title': 'Sarah Stallings May Oral History Interview [April 16, 1997]'},\n",
       "  {'sourceResource.title': 'Old Kershaw County Courthouse'},\n",
       "  {'sourceResource.title': 'Bradbury June Scott'},\n",
       "  {'sourceResource.title': 'Jack Shivers'},\n",
       "  {'sourceResource.title': 'Jeanette P. Singleton, Interview by Saeeda Hugie, 7 February, 2019'}],\n",
       " 'facets': [],\n",
       " 'limit': 10,\n",
       " 'start': 1}"
      ]
     },
     "execution_count": 24,
     "metadata": {},
     "output_type": "execute_result"
    }
   ],
   "source": [
    "my_query = \"carolina+hurricane+193*\"\n",
    "my_url = f\"https://api.dp.la/v2/items?q={my_query}&fields=sourceResource.title&api_key={DPL_API_KEY_MAY}\"\n",
    "\n",
    "response = requests.get(my_url)\n",
    "\n",
    "parsed_response = response.json()\n",
    "parsed_response"
   ]
  },
  {
   "cell_type": "code",
   "execution_count": 25,
   "id": "0b4e750d",
   "metadata": {},
   "outputs": [
    {
     "data": {
      "text/plain": [
       "{'count': 40,\n",
       " 'docs': [{'sourceResource.title': 'Repairing the display windows at Lipsitz Department Store'},\n",
       "  {'sourceResource.title': \"Hurricane damages G.W. Trask's packing shed\"},\n",
       "  {'sourceResource.title': 'Interior damage at G.W. Trask packing shed'},\n",
       "  {'sourceResource.title': 'Hurricane damage at the Edward Means House'},\n",
       "  {'sourceResource.title': \"Hurricane Gracie damage at Sheriff McTeer's Coffin Point Plantation Home\"},\n",
       "  {'sourceResource.title': 'Rosa Sumler Vines Joyner Noel Oral History Interview [February 21, 1998]'},\n",
       "  {'sourceResource.title': 'State NAACP Disaster Relief, Hurricane Huge Release Form, 1989'},\n",
       "  {'sourceResource.title': 'Sarah Stallings May Oral History Interview [April 16, 1997]'},\n",
       "  {'sourceResource.title': 'NAACP Disaster Relief Program Office, Hurricane Huge Requests for Assistance, 1989'},\n",
       "  {'sourceResource.title': 'William H. Golod, Ph.D., oral history interview, 23 June 2009'}],\n",
       " 'facets': [],\n",
       " 'limit': 10,\n",
       " 'start': 1}"
      ]
     },
     "execution_count": 25,
     "metadata": {},
     "output_type": "execute_result"
    }
   ],
   "source": [
    "my_query = \"carolina+hurricane+192*\"\n",
    "my_url = f\"https://api.dp.la/v2/items?q={my_query}&fields=sourceResource.title&api_key={DPL_API_KEY_MAY}\"\n",
    "\n",
    "response = requests.get(my_url)\n",
    "\n",
    "parsed_response = response.json()\n",
    "parsed_response"
   ]
  }
 ],
 "metadata": {
  "kernelspec": {
   "display_name": "Python 3",
   "language": "python",
   "name": "python3"
  },
  "language_info": {
   "codemirror_mode": {
    "name": "ipython",
    "version": 3
   },
   "file_extension": ".py",
   "mimetype": "text/x-python",
   "name": "python",
   "nbconvert_exporter": "python",
   "pygments_lexer": "ipython3",
   "version": "3.12.1"
  }
 },
 "nbformat": 4,
 "nbformat_minor": 5
}
